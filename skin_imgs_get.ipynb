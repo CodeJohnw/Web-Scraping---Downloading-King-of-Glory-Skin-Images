{
 "cells": [
  {
   "cell_type": "markdown",
   "id": "acd7ef8a",
   "metadata": {
    "ExecuteTime": {
     "end_time": "2023-04-01T07:32:45.017785Z",
     "start_time": "2023-04-01T07:32:45.010764Z"
    }
   },
   "source": [
    "\n",
    "#codeman   \n",
    "#2023.04.01  \n",
    "#获取王者荣耀全英雄皮肤，按英雄名称分别储存  "
   ]
  },
  {
   "cell_type": "code",
   "execution_count": 11,
   "id": "006bfbd2",
   "metadata": {
    "ExecuteTime": {
     "end_time": "2023-04-01T07:33:02.938696Z",
     "start_time": "2023-04-01T07:33:02.932360Z"
    }
   },
   "outputs": [],
   "source": [
    "#导入库\n",
    "import requests\n",
    "from lxml import html\n",
    "import json\n",
    "import os\n",
    "import time"
   ]
  },
  {
   "cell_type": "code",
   "execution_count": 9,
   "id": "3ba25216",
   "metadata": {
    "ExecuteTime": {
     "end_time": "2023-04-01T07:26:51.493867Z",
     "start_time": "2023-04-01T07:26:26.005664Z"
    }
   },
   "outputs": [
    {
     "name": "stdout",
     "output_type": "stream",
     "text": [
      "------开始下载金蝉的皮肤------\n",
      "渡世行者下载成功!\n",
      "前尘下载成功!\n",
      "唐三藏下载成功!\n",
      "------开始下载暃的皮肤------\n",
      "玉城之子下载成功!\n",
      "碧珀绯影下载成功!\n",
      "星界游侠下载成功!\n",
      "------开始下载桑启的皮肤------\n",
      "萤火之旅下载成功!\n",
      "画中游下载成功!\n",
      "海盐诗旅下载成功!\n",
      "------开始下载戈娅的皮肤------\n",
      "沙海飞舟下载成功!\n",
      "危途狂花下载成功!\n",
      "------开始下载海月的皮肤------\n",
      "永夜之心下载成功!\n",
      "幻泉雾影下载成功!\n",
      "------开始下载赵怀真的皮肤------\n",
      "自在之心下载成功!\n",
      "太极少年下载成功!\n",
      "------开始下载莱西奥的皮肤------\n",
      "火鹰船长下载成功!\n"
     ]
    }
   ],
   "source": [
    "# 读取json文件\n",
    "#   json文件包含以下信息：\n",
    "# \t\"ename\": 105,对应编号与网址后缀一致\n",
    "# \t\"cname\": \"廉颇\",\n",
    "# \t\"title\": \"正义爆轰\",\n",
    "# \t\"new_type\": 0,\n",
    "# \t\"hero_type\": 3,\n",
    "# \t\"skin_name\": \"正义爆轰|地狱岩魂\",\n",
    "# \t\"moss_id\": 3627\n",
    "with open('herolist.json') as f:\n",
    "    heros = json.load(f)\n",
    "\n",
    "#遍历英雄，创建英雄网页链接并获取网页皮肤\n",
    "for hero in heros:\n",
    "    # 获取单个英雄网页内容\n",
    "    headers = {\n",
    "        'user-agent': 'Mozilla/5.0 (Windows NT 10.0; Win64; x64) AppleWebKit/537.36 (KHTML, like Gecko) Chrome/111.0.0.0 Safari/537.36'}\n",
    "    url = f\"https://pvp.qq.com/web201605/herodetail/{hero['ename']}.shtml\"\n",
    "    hero_resp = requests.get(url, headers=headers)\n",
    "    hero_resp.encoding = 'gbk'\n",
    "    #print(hero_resp.text)\n",
    "    \n",
    "    # 解析单个英雄网页内容\n",
    "    etree = html.etree\n",
    "    e = html.etree.HTML(hero_resp.text)\n",
    "    names = e.xpath('//ul[@class=\"pic-pf-list pic-pf-list3\"]/@data-imgname')[0]\n",
    "#     print(names)\n",
    "    \n",
    "    img_names = names.split('|')\n",
    "#     print(img_names)\n",
    "#     print(len(img_names))\n",
    "    file_names = []\n",
    "    for img_name in img_names:\n",
    "        if '&' in img_name: #部分英雄皮肤名不含’&‘，因此需要判断是否含有该字符\n",
    "            file_name,_ = img_name.split('&')\n",
    "        else:\n",
    "            file_name = img_name\n",
    "        file_names.append(file_name)\n",
    "#     print(file_names)\n",
    "    print(f'------开始下载{hero[\"cname\"]}的皮肤------')\n",
    "    if not os.path.exists(hero[\"cname\"]):\n",
    "        os.makedirs(hero[\"cname\"])\n",
    "    \n",
    "    # 保存皮肤图片\n",
    "    for i in range(1,len(img_names)+1):\n",
    "        img_url = f\"http://game.gtimg.cn/images/yxzj/img201606/skin/hero-info/{hero['ename']}/{hero['ename']}-bigskin-{i}.jpg\"\n",
    "        img_resp = requests.get(img_url,headers=headers)\n",
    "        \n",
    "        with open(f'{hero[\"cname\"]}/{file_names[i-1]}.jpg','wb') as f:\n",
    "            f.write(img_resp.content)\n",
    "            print(f'{file_names[i-1]}下载成功!')\n",
    "            time.sleep(1)\n",
    "        "
   ]
  },
  {
   "cell_type": "code",
   "execution_count": null,
   "id": "4a579cf5",
   "metadata": {},
   "outputs": [],
   "source": []
  }
 ],
 "metadata": {
  "kernelspec": {
   "display_name": "Python 3 (ipykernel)",
   "language": "python",
   "name": "python3"
  },
  "language_info": {
   "codemirror_mode": {
    "name": "ipython",
    "version": 3
   },
   "file_extension": ".py",
   "mimetype": "text/x-python",
   "name": "python",
   "nbconvert_exporter": "python",
   "pygments_lexer": "ipython3",
   "version": "3.9.13"
  },
  "toc": {
   "base_numbering": 1,
   "nav_menu": {},
   "number_sections": true,
   "sideBar": true,
   "skip_h1_title": false,
   "title_cell": "Table of Contents",
   "title_sidebar": "Contents",
   "toc_cell": false,
   "toc_position": {},
   "toc_section_display": true,
   "toc_window_display": false
  },
  "varInspector": {
   "cols": {
    "lenName": 16,
    "lenType": 16,
    "lenVar": 40
   },
   "kernels_config": {
    "python": {
     "delete_cmd_postfix": "",
     "delete_cmd_prefix": "del ",
     "library": "var_list.py",
     "varRefreshCmd": "print(var_dic_list())"
    },
    "r": {
     "delete_cmd_postfix": ") ",
     "delete_cmd_prefix": "rm(",
     "library": "var_list.r",
     "varRefreshCmd": "cat(var_dic_list()) "
    }
   },
   "types_to_exclude": [
    "module",
    "function",
    "builtin_function_or_method",
    "instance",
    "_Feature"
   ],
   "window_display": false
  }
 },
 "nbformat": 4,
 "nbformat_minor": 5
}
